{
 "cells": [
  {
   "cell_type": "code",
   "execution_count": 2,
   "id": "0c27fe9a-bbae-48ca-b4ce-0a128839941a",
   "metadata": {},
   "outputs": [],
   "source": [
    "import numpy as np\n",
    "import pandas as pd "
   ]
  },
  {
   "cell_type": "code",
   "execution_count": 3,
   "id": "588d19fd-652f-47be-b916-8fa59da113d6",
   "metadata": {},
   "outputs": [],
   "source": [
    "array_1D = np.array([1,2,3,4])"
   ]
  },
  {
   "cell_type": "code",
   "execution_count": 4,
   "id": "eb986369-f30e-429c-9275-d17a01574cfd",
   "metadata": {},
   "outputs": [],
   "source": [
    "array_2D = np.array([[1,2,3,4],[5,6,7,8]])"
   ]
  },
  {
   "cell_type": "code",
   "execution_count": 6,
   "id": "e618f98c-7109-437b-802c-908f6b133208",
   "metadata": {},
   "outputs": [
    {
     "data": {
      "text/plain": [
       "array([[1, 2, 3, 4],\n",
       "       [5, 6, 7, 8]])"
      ]
     },
     "execution_count": 6,
     "metadata": {},
     "output_type": "execute_result"
    }
   ],
   "source": [
    "array_2D"
   ]
  },
  {
   "cell_type": "code",
   "execution_count": 8,
   "id": "84e24e4a-64fe-4766-a815-c2ae974eb6c7",
   "metadata": {},
   "outputs": [
    {
     "data": {
      "text/plain": [
       "array([[1, 2],\n",
       "       [3, 4],\n",
       "       [5, 6],\n",
       "       [7, 8]])"
      ]
     },
     "execution_count": 8,
     "metadata": {},
     "output_type": "execute_result"
    }
   ],
   "source": [
    "array_2D.reshape(4,2)"
   ]
  },
  {
   "cell_type": "code",
   "execution_count": 9,
   "id": "b7e56596-3fe2-4ebf-8d0c-3148f961c7bc",
   "metadata": {},
   "outputs": [],
   "source": [
    "array_2D1 = np.arange(16).reshape(4,4)"
   ]
  },
  {
   "cell_type": "code",
   "execution_count": 10,
   "id": "fa788d73-242f-4eda-b091-b5137fe648b9",
   "metadata": {},
   "outputs": [
    {
     "data": {
      "text/plain": [
       "array([[ 0,  1,  2,  3],\n",
       "       [ 4,  5,  6,  7],\n",
       "       [ 8,  9, 10, 11],\n",
       "       [12, 13, 14, 15]])"
      ]
     },
     "execution_count": 10,
     "metadata": {},
     "output_type": "execute_result"
    }
   ],
   "source": [
    "array_2D1"
   ]
  },
  {
   "cell_type": "code",
   "execution_count": 11,
   "id": "c0606076-7caa-460e-82d7-6aba00fac491",
   "metadata": {},
   "outputs": [],
   "source": [
    "array_2D2 = np.arange(16).reshape(8,2)"
   ]
  },
  {
   "cell_type": "code",
   "execution_count": 21,
   "id": "751fb9e0-f9ae-48b9-b801-61ace12b08b2",
   "metadata": {},
   "outputs": [
    {
     "data": {
      "text/plain": [
       "array([[ 0,  1],\n",
       "       [ 2,  3],\n",
       "       [ 4,  5],\n",
       "       [ 6,  7],\n",
       "       [ 8,  9],\n",
       "       [10, 11],\n",
       "       [12, 13],\n",
       "       [14, 15]])"
      ]
     },
     "execution_count": 21,
     "metadata": {},
     "output_type": "execute_result"
    }
   ],
   "source": [
    "array_2D2"
   ]
  },
  {
   "cell_type": "code",
   "execution_count": 15,
   "id": "77294c96-daba-4737-a5ef-f074ff4ab1f3",
   "metadata": {},
   "outputs": [],
   "source": [
    "array_2D3 = np.arange(16,32).reshape(8,2)"
   ]
  },
  {
   "cell_type": "code",
   "execution_count": 22,
   "id": "ac24eefe-83b4-4d4c-95f7-ce9e9206fee5",
   "metadata": {},
   "outputs": [
    {
     "data": {
      "text/plain": [
       "array([[16, 17],\n",
       "       [18, 19],\n",
       "       [20, 21],\n",
       "       [22, 23],\n",
       "       [24, 25],\n",
       "       [26, 27],\n",
       "       [28, 29],\n",
       "       [30, 31]])"
      ]
     },
     "execution_count": 22,
     "metadata": {},
     "output_type": "execute_result"
    }
   ],
   "source": [
    "array_2D3"
   ]
  },
  {
   "cell_type": "code",
   "execution_count": 23,
   "id": "2d1fe7c8-da2a-449e-9029-3d11d6a3bcf3",
   "metadata": {},
   "outputs": [],
   "source": [
    "array_2Dsum = array_2D2+array_2D3"
   ]
  },
  {
   "cell_type": "code",
   "execution_count": 24,
   "id": "8ff6168f-4d85-410d-9f06-5871c92b2f91",
   "metadata": {},
   "outputs": [
    {
     "data": {
      "text/plain": [
       "array([[16, 18],\n",
       "       [20, 22],\n",
       "       [24, 26],\n",
       "       [28, 30],\n",
       "       [32, 34],\n",
       "       [36, 38],\n",
       "       [40, 42],\n",
       "       [44, 46]])"
      ]
     },
     "execution_count": 24,
     "metadata": {},
     "output_type": "execute_result"
    }
   ],
   "source": [
    "array_2Dsum"
   ]
  },
  {
   "cell_type": "code",
   "execution_count": 17,
   "id": "3d89ec79-b424-4794-9900-fb7f54d2fa39",
   "metadata": {},
   "outputs": [
    {
     "data": {
      "text/plain": [
       "'1.26.4'"
      ]
     },
     "execution_count": 17,
     "metadata": {},
     "output_type": "execute_result"
    }
   ],
   "source": [
    "np.__version__"
   ]
  },
  {
   "cell_type": "code",
   "execution_count": 20,
   "id": "3df3a7cb-ddf6-4fd3-8f1f-a9c6157cbf37",
   "metadata": {},
   "outputs": [
    {
     "data": {
      "text/plain": [
       "120"
      ]
     },
     "execution_count": 20,
     "metadata": {},
     "output_type": "execute_result"
    }
   ],
   "source": [
    "np.sum(array_2D2)"
   ]
  },
  {
   "cell_type": "code",
   "execution_count": 25,
   "id": "1ffb54bb-30d0-446a-a82c-0ec53bc340c6",
   "metadata": {},
   "outputs": [
    {
     "data": {
      "text/plain": [
       "array([[ 2,  4,  6,  8],\n",
       "       [ 6,  8, 10, 12]])"
      ]
     },
     "execution_count": 25,
     "metadata": {},
     "output_type": "execute_result"
    }
   ],
   "source": [
    "array_1D + array_2D"
   ]
  },
  {
   "cell_type": "code",
   "execution_count": 26,
   "id": "339b8e94-0610-4454-b65d-67126fb9610a",
   "metadata": {},
   "outputs": [
    {
     "data": {
      "text/plain": [
       "46"
      ]
     },
     "execution_count": 26,
     "metadata": {},
     "output_type": "execute_result"
    }
   ],
   "source": [
    "array_2Dsum.max()"
   ]
  },
  {
   "cell_type": "code",
   "execution_count": 27,
   "id": "ad6d3425-d859-4a9a-8970-8b29efbf4b8f",
   "metadata": {},
   "outputs": [
    {
     "data": {
      "text/plain": [
       "16"
      ]
     },
     "execution_count": 27,
     "metadata": {},
     "output_type": "execute_result"
    }
   ],
   "source": [
    "array_2Dsum.min()"
   ]
  },
  {
   "cell_type": "code",
   "execution_count": 28,
   "id": "3eeda6df-94c0-464d-b40f-dd434659ec66",
   "metadata": {},
   "outputs": [
    {
     "data": {
      "text/plain": [
       "496"
      ]
     },
     "execution_count": 28,
     "metadata": {},
     "output_type": "execute_result"
    }
   ],
   "source": [
    "np.sum(array_2Dsum)"
   ]
  },
  {
   "cell_type": "code",
   "execution_count": 29,
   "id": "f746912d-93cc-4635-97d7-cc62505da519",
   "metadata": {},
   "outputs": [
    {
     "data": {
      "text/plain": [
       "46"
      ]
     },
     "execution_count": 29,
     "metadata": {},
     "output_type": "execute_result"
    }
   ],
   "source": [
    "np.max(array_2Dsum)"
   ]
  },
  {
   "cell_type": "code",
   "execution_count": 30,
   "id": "f48be1a9-1ebc-40be-b445-1c88886929ca",
   "metadata": {},
   "outputs": [
    {
     "data": {
      "text/plain": [
       "31.0"
      ]
     },
     "execution_count": 30,
     "metadata": {},
     "output_type": "execute_result"
    }
   ],
   "source": [
    "np.average(array_2Dsum)"
   ]
  },
  {
   "cell_type": "code",
   "execution_count": 31,
   "id": "3c09badc-6ec7-4d0c-9564-3bbe36ff4fb3",
   "metadata": {},
   "outputs": [
    {
     "data": {
      "text/plain": [
       "-2147483648"
      ]
     },
     "execution_count": 31,
     "metadata": {},
     "output_type": "execute_result"
    }
   ],
   "source": [
    "np.product(array_2Dsum)"
   ]
  },
  {
   "cell_type": "code",
   "execution_count": 33,
   "id": "5c14bf69-707f-4902-ab28-3acd30496841",
   "metadata": {},
   "outputs": [],
   "source": [
    "array_flat = array_2Dsum.flatten()"
   ]
  },
  {
   "cell_type": "code",
   "execution_count": 34,
   "id": "4ac68293-95b1-489a-9e69-1fe2f4967cb2",
   "metadata": {},
   "outputs": [
    {
     "data": {
      "text/plain": [
       "array([16, 18, 20, 22, 24, 26, 28, 30, 32, 34, 36, 38, 40, 42, 44, 46])"
      ]
     },
     "execution_count": 34,
     "metadata": {},
     "output_type": "execute_result"
    }
   ],
   "source": [
    "array_flat"
   ]
  },
  {
   "cell_type": "code",
   "execution_count": 37,
   "id": "6190a01a-a250-49ad-a1d0-dbaf671b134e",
   "metadata": {},
   "outputs": [],
   "source": [
    "array_3D = np.arange(9).reshape(3,3)"
   ]
  },
  {
   "cell_type": "code",
   "execution_count": 39,
   "id": "085f7fc9-038d-4f79-920d-2b82ba59a33c",
   "metadata": {},
   "outputs": [
    {
     "data": {
      "text/plain": [
       "array([[0, 1, 2],\n",
       "       [3, 4, 5],\n",
       "       [6, 7, 8]])"
      ]
     },
     "execution_count": 39,
     "metadata": {},
     "output_type": "execute_result"
    }
   ],
   "source": [
    "array_3D"
   ]
  },
  {
   "cell_type": "code",
   "execution_count": 40,
   "id": "cde101d9-fffa-453f-86e7-78fcbcdd349a",
   "metadata": {},
   "outputs": [
    {
     "name": "stdout",
     "output_type": "stream",
     "text": [
      "[0 1 2 3 4 5 6 7 8]\n"
     ]
    }
   ],
   "source": [
    "array_flat1 = array_3D.flatten()\n",
    "print(array_flat1)"
   ]
  },
  {
   "cell_type": "code",
   "execution_count": 41,
   "id": "88c49a1e-f6b4-4e6f-8219-6d2ce77d804d",
   "metadata": {},
   "outputs": [
    {
     "data": {
      "text/plain": [
       "array([[16, 18],\n",
       "       [20, 22],\n",
       "       [24, 26],\n",
       "       [28, 30],\n",
       "       [32, 34],\n",
       "       [36, 38],\n",
       "       [40, 42],\n",
       "       [44, 46]])"
      ]
     },
     "execution_count": 41,
     "metadata": {},
     "output_type": "execute_result"
    }
   ],
   "source": [
    "np.vstack(array_2Dsum)"
   ]
  },
  {
   "cell_type": "code",
   "execution_count": 42,
   "id": "6d0c0398-8836-4971-9c4c-7f379dfbc301",
   "metadata": {},
   "outputs": [
    {
     "data": {
      "text/plain": [
       "array([16, 18, 20, 22, 24, 26, 28, 30, 32, 34, 36, 38, 40, 42, 44, 46])"
      ]
     },
     "execution_count": 42,
     "metadata": {},
     "output_type": "execute_result"
    }
   ],
   "source": [
    "np.hstack(array_2Dsum)"
   ]
  },
  {
   "cell_type": "code",
   "execution_count": 43,
   "id": "eb087891-bd3c-4030-82e6-9701a619f2b0",
   "metadata": {},
   "outputs": [
    {
     "data": {
      "text/plain": [
       "array([[0, 1],\n",
       "       [2, 3],\n",
       "       [4, 5]])"
      ]
     },
     "execution_count": 43,
     "metadata": {},
     "output_type": "execute_result"
    }
   ],
   "source": [
    "arr = np.arange(6).reshape(3,2)\n",
    "arr"
   ]
  },
  {
   "cell_type": "code",
   "execution_count": 45,
   "id": "eb01e635-0af8-4897-ac6a-7553be00042e",
   "metadata": {},
   "outputs": [
    {
     "data": {
      "text/plain": [
       "array([[16, 18],\n",
       "       [20, 22],\n",
       "       [24, 26],\n",
       "       [28, 30],\n",
       "       [32, 34],\n",
       "       [36, 38],\n",
       "       [40, 42],\n",
       "       [44, 46],\n",
       "       [ 0,  1],\n",
       "       [ 2,  3],\n",
       "       [ 4,  5]])"
      ]
     },
     "execution_count": 45,
     "metadata": {},
     "output_type": "execute_result"
    }
   ],
   "source": [
    "np.vstack((array_2Dsum, arr))"
   ]
  },
  {
   "cell_type": "code",
   "execution_count": 64,
   "id": "b7bc1d04-7fe6-4e8e-ba38-d4fd584b4a5e",
   "metadata": {},
   "outputs": [],
   "source": [
    "data = {'Student1' : {'Name' : 'Shashwat', 'Age' : 20, 'Branch' : 'GCS', 'Subjects' : ['DAA', 'ToC', 'CS'], 'Reg_no' : 2140105},\n",
    "        'Student2' : {'Name' : 'Vivek', 'Age' : 21, 'Branch' : 'GCS', 'Subjects' : ['DAA', 'ToC', 'CS'], 'Reg_no' : 2140124},\n",
    "        'Student3' : {'Name' : 'Sumit', 'Age' : 20, 'Branch' : 'GCS', 'Subjects' : ['DAA', 'ToC', 'CS'], 'Reg_no' : 2140128},\n",
    "       'Student4' : {'Name' : 'Dhirendra', 'Age' : 20, 'Branch' : 'GCS', 'Subjects' : ['DAA', 'ToC', 'CS'], 'Reg_no' : 2140148}}"
   ]
  },
  {
   "cell_type": "code",
   "execution_count": 65,
   "id": "0fbdbdcf-668a-4569-b334-5c14326341b0",
   "metadata": {},
   "outputs": [
    {
     "data": {
      "text/plain": [
       "{'Student1': {'Name': 'Shashwat',\n",
       "  'Age': 20,\n",
       "  'Branch': 'GCS',\n",
       "  'Subjects': ['DAA', 'ToC', 'CS'],\n",
       "  'Reg_no': 2140105},\n",
       " 'Student2': {'Name': 'Vivek',\n",
       "  'Age': 21,\n",
       "  'Branch': 'GCS',\n",
       "  'Subjects': ['DAA', 'ToC', 'CS'],\n",
       "  'Reg_no': 2140124},\n",
       " 'Student3': {'Name': 'Sumit',\n",
       "  'Age': 20,\n",
       "  'Branch': 'GCS',\n",
       "  'Subjects': ['DAA', 'ToC', 'CS'],\n",
       "  'Reg_no': 2140128},\n",
       " 'Student4': {'Name': 'Dhirendra',\n",
       "  'Age': 20,\n",
       "  'Branch': 'GCS',\n",
       "  'Subjects': ['DAA', 'ToC', 'CS'],\n",
       "  'Reg_no': 2140148}}"
      ]
     },
     "execution_count": 65,
     "metadata": {},
     "output_type": "execute_result"
    }
   ],
   "source": [
    "data"
   ]
  },
  {
   "cell_type": "code",
   "execution_count": 66,
   "id": "91331598-451f-4e27-a7fe-995b9942892b",
   "metadata": {},
   "outputs": [
    {
     "data": {
      "text/plain": [
       "dict_values([{'Name': 'Shashwat', 'Age': 20, 'Branch': 'GCS', 'Subjects': ['DAA', 'ToC', 'CS'], 'Reg_no': 2140105}, {'Name': 'Vivek', 'Age': 21, 'Branch': 'GCS', 'Subjects': ['DAA', 'ToC', 'CS'], 'Reg_no': 2140124}, {'Name': 'Sumit', 'Age': 20, 'Branch': 'GCS', 'Subjects': ['DAA', 'ToC', 'CS'], 'Reg_no': 2140128}, {'Name': 'Dhirendra', 'Age': 20, 'Branch': 'GCS', 'Subjects': ['DAA', 'ToC', 'CS'], 'Reg_no': 2140148}])"
      ]
     },
     "execution_count": 66,
     "metadata": {},
     "output_type": "execute_result"
    }
   ],
   "source": [
    "values = data.values()\n",
    "values"
   ]
  },
  {
   "cell_type": "code",
   "execution_count": 70,
   "id": "2450e2a1-68a5-43bd-aa9a-e24768d49c45",
   "metadata": {},
   "outputs": [
    {
     "data": {
      "text/plain": [
       "[array([[0, 1, 2],\n",
       "        [3, 4, 5],\n",
       "        [6, 7, 8]])]"
      ]
     },
     "execution_count": 70,
     "metadata": {},
     "output_type": "execute_result"
    }
   ],
   "source": [
    "np.vsplit(array_3D, 1)"
   ]
  },
  {
   "cell_type": "code",
   "execution_count": 71,
   "id": "ad92ca5a-0aa4-4d2b-8d0c-c1a55c208dd0",
   "metadata": {},
   "outputs": [],
   "source": [
    "x = np.arange(16).reshape(4,4)"
   ]
  },
  {
   "cell_type": "code",
   "execution_count": 74,
   "id": "f65a435e-78bb-4ed5-9e93-886d11fce6b8",
   "metadata": {},
   "outputs": [
    {
     "data": {
      "text/plain": [
       "(array([[0, 1, 2, 3],\n",
       "        [4, 5, 6, 7]]),\n",
       " array([[ 8,  9, 10, 11],\n",
       "        [12, 13, 14, 15]]))"
      ]
     },
     "execution_count": 74,
     "metadata": {},
     "output_type": "execute_result"
    }
   ],
   "source": [
    "w, y = np.vsplit(x, 2)\n",
    "w,y"
   ]
  },
  {
   "cell_type": "code",
   "execution_count": 76,
   "id": "04999fde-4e79-47e6-ac65-09435af6a0de",
   "metadata": {},
   "outputs": [
    {
     "data": {
      "text/plain": [
       "array([[ 8,  9, 10, 11],\n",
       "       [12, 13, 14, 15],\n",
       "       [ 0,  1,  2,  3],\n",
       "       [ 4,  5,  6,  7]])"
      ]
     },
     "execution_count": 76,
     "metadata": {},
     "output_type": "execute_result"
    }
   ],
   "source": [
    "z = np.vstack((y,w))\n",
    "z"
   ]
  },
  {
   "cell_type": "code",
   "execution_count": 84,
   "id": "c3c544ee-ef25-4f90-98b7-667c9022b4e9",
   "metadata": {},
   "outputs": [
    {
     "data": {
      "text/plain": [
       "array([[ 0,  1,  2,  3],\n",
       "       [ 4,  5,  6,  7],\n",
       "       [ 8,  9, 10, 11],\n",
       "       [12, 13, 14, 15]])"
      ]
     },
     "execution_count": 84,
     "metadata": {},
     "output_type": "execute_result"
    }
   ],
   "source": [
    "np.sort(z, axis=0)"
   ]
  },
  {
   "cell_type": "code",
   "execution_count": 85,
   "id": "9b3c39fa-358f-4755-89d1-7b614b7e68bd",
   "metadata": {},
   "outputs": [
    {
     "data": {
      "text/html": [
       "<div>\n",
       "<style scoped>\n",
       "    .dataframe tbody tr th:only-of-type {\n",
       "        vertical-align: middle;\n",
       "    }\n",
       "\n",
       "    .dataframe tbody tr th {\n",
       "        vertical-align: top;\n",
       "    }\n",
       "\n",
       "    .dataframe thead th {\n",
       "        text-align: right;\n",
       "    }\n",
       "</style>\n",
       "<table border=\"1\" class=\"dataframe\">\n",
       "  <thead>\n",
       "    <tr style=\"text-align: right;\">\n",
       "      <th></th>\n",
       "      <th>Student1</th>\n",
       "      <th>Student2</th>\n",
       "      <th>Student3</th>\n",
       "      <th>Student4</th>\n",
       "    </tr>\n",
       "  </thead>\n",
       "  <tbody>\n",
       "    <tr>\n",
       "      <th>Name</th>\n",
       "      <td>Shashwat</td>\n",
       "      <td>Vivek</td>\n",
       "      <td>Sumit</td>\n",
       "      <td>Dhirendra</td>\n",
       "    </tr>\n",
       "    <tr>\n",
       "      <th>Age</th>\n",
       "      <td>20</td>\n",
       "      <td>21</td>\n",
       "      <td>20</td>\n",
       "      <td>20</td>\n",
       "    </tr>\n",
       "    <tr>\n",
       "      <th>Branch</th>\n",
       "      <td>GCS</td>\n",
       "      <td>GCS</td>\n",
       "      <td>GCS</td>\n",
       "      <td>GCS</td>\n",
       "    </tr>\n",
       "    <tr>\n",
       "      <th>Subjects</th>\n",
       "      <td>[DAA, ToC, CS]</td>\n",
       "      <td>[DAA, ToC, CS]</td>\n",
       "      <td>[DAA, ToC, CS]</td>\n",
       "      <td>[DAA, ToC, CS]</td>\n",
       "    </tr>\n",
       "    <tr>\n",
       "      <th>Reg_no</th>\n",
       "      <td>2140105</td>\n",
       "      <td>2140124</td>\n",
       "      <td>2140128</td>\n",
       "      <td>2140148</td>\n",
       "    </tr>\n",
       "  </tbody>\n",
       "</table>\n",
       "</div>"
      ],
      "text/plain": [
       "                Student1        Student2        Student3        Student4\n",
       "Name            Shashwat           Vivek           Sumit       Dhirendra\n",
       "Age                   20              21              20              20\n",
       "Branch               GCS             GCS             GCS             GCS\n",
       "Subjects  [DAA, ToC, CS]  [DAA, ToC, CS]  [DAA, ToC, CS]  [DAA, ToC, CS]\n",
       "Reg_no           2140105         2140124         2140128         2140148"
      ]
     },
     "execution_count": 85,
     "metadata": {},
     "output_type": "execute_result"
    }
   ],
   "source": [
    "df = pd.DataFrame(data)\n",
    "df"
   ]
  },
  {
   "cell_type": "code",
   "execution_count": 110,
   "id": "3a9499ba-728c-4729-9005-614b9ffc8605",
   "metadata": {},
   "outputs": [],
   "source": [
    "df.to_csv('exampleCSV.csv', header=True, index_label=False)"
   ]
  },
  {
   "cell_type": "code",
   "execution_count": 111,
   "id": "6f39fc5b-801d-476b-8f7c-c9e9f14dc8f8",
   "metadata": {},
   "outputs": [
    {
     "data": {
      "text/html": [
       "<div>\n",
       "<style scoped>\n",
       "    .dataframe tbody tr th:only-of-type {\n",
       "        vertical-align: middle;\n",
       "    }\n",
       "\n",
       "    .dataframe tbody tr th {\n",
       "        vertical-align: top;\n",
       "    }\n",
       "\n",
       "    .dataframe thead th {\n",
       "        text-align: right;\n",
       "    }\n",
       "</style>\n",
       "<table border=\"1\" class=\"dataframe\">\n",
       "  <thead>\n",
       "    <tr style=\"text-align: right;\">\n",
       "      <th></th>\n",
       "      <th>Student1</th>\n",
       "      <th>Student2</th>\n",
       "      <th>Student3</th>\n",
       "      <th>Student4</th>\n",
       "    </tr>\n",
       "  </thead>\n",
       "  <tbody>\n",
       "    <tr>\n",
       "      <th>Name</th>\n",
       "      <td>Shashwat</td>\n",
       "      <td>Vivek</td>\n",
       "      <td>Sumit</td>\n",
       "      <td>Dhirendra</td>\n",
       "    </tr>\n",
       "    <tr>\n",
       "      <th>Age</th>\n",
       "      <td>20</td>\n",
       "      <td>21</td>\n",
       "      <td>20</td>\n",
       "      <td>20</td>\n",
       "    </tr>\n",
       "    <tr>\n",
       "      <th>Branch</th>\n",
       "      <td>GCS</td>\n",
       "      <td>GCS</td>\n",
       "      <td>GCS</td>\n",
       "      <td>GCS</td>\n",
       "    </tr>\n",
       "    <tr>\n",
       "      <th>Subjects</th>\n",
       "      <td>['DAA', 'ToC', 'CS']</td>\n",
       "      <td>['DAA', 'ToC', 'CS']</td>\n",
       "      <td>['DAA', 'ToC', 'CS']</td>\n",
       "      <td>['DAA', 'ToC', 'CS']</td>\n",
       "    </tr>\n",
       "    <tr>\n",
       "      <th>Reg_no</th>\n",
       "      <td>2140105</td>\n",
       "      <td>2140124</td>\n",
       "      <td>2140128</td>\n",
       "      <td>2140148</td>\n",
       "    </tr>\n",
       "  </tbody>\n",
       "</table>\n",
       "</div>"
      ],
      "text/plain": [
       "                      Student1              Student2              Student3  \\\n",
       "Name                  Shashwat                 Vivek                 Sumit   \n",
       "Age                         20                    21                    20   \n",
       "Branch                     GCS                   GCS                   GCS   \n",
       "Subjects  ['DAA', 'ToC', 'CS']  ['DAA', 'ToC', 'CS']  ['DAA', 'ToC', 'CS']   \n",
       "Reg_no                 2140105               2140124               2140128   \n",
       "\n",
       "                      Student4  \n",
       "Name                 Dhirendra  \n",
       "Age                         20  \n",
       "Branch                     GCS  \n",
       "Subjects  ['DAA', 'ToC', 'CS']  \n",
       "Reg_no                 2140148  "
      ]
     },
     "execution_count": 111,
     "metadata": {},
     "output_type": "execute_result"
    }
   ],
   "source": [
    "df2 = pd.read_csv('exampleCSV.csv')\n",
    "df2"
   ]
  },
  {
   "cell_type": "code",
   "execution_count": null,
   "id": "6ac3f5c4-0011-4187-b488-71fb44a70c51",
   "metadata": {},
   "outputs": [],
   "source": []
  },
  {
   "cell_type": "code",
   "execution_count": 131,
   "id": "ed7a59a9-f416-4626-94f1-624f1b9cfdef",
   "metadata": {},
   "outputs": [],
   "source": [
    "import matplotlib.pyplot as plt"
   ]
  },
  {
   "cell_type": "code",
   "execution_count": 135,
   "id": "bc819b2d-4679-43ea-b603-3925798cc0c3",
   "metadata": {},
   "outputs": [],
   "source": [
    "x = np.linspace(-5,5,6)\n",
    "y = [-15, 15, 16, 4, 3, 5]"
   ]
  },
  {
   "cell_type": "code",
   "execution_count": 148,
   "id": "4241c2ad-18bd-4f3c-9778-6a6a7b01948b",
   "metadata": {},
   "outputs": [
    {
     "data": {
      "image/png": "[encoded data removed]",
      "text/plain": [
       "<Figure size 1000x600 with 1 Axes>"
      ]
     },
     "metadata": {},
     "output_type": "display_data"
    }
   ],
   "source": [
    "plt.figure(figsize=(10,6))\n",
    "plt.xlabel('X-axis')\n",
    "plt.ylabel('Y-axis')\n",
    "plt.plot(x, y)\n",
    "plt.scatter(x, y, color = 'red')\n",
    "plt.show()"
   ]
  },
  {
   "cell_type": "code",
   "execution_count": null,
   "id": "5661e9c8-d6fa-4327-816f-be3887327f05",
   "metadata": {},
   "outputs": [],
   "source": []
  }
 ],
 "metadata": {
  "kernelspec": {
   "display_name": "Python 3 (ipykernel)",
   "language": "python",
   "name": "python3"
  },
  "language_info": {
   "codemirror_mode": {
    "name": "ipython",
    "version": 3
   },
   "file_extension": ".py",
   "mimetype": "text/x-python",
   "name": "python",
   "nbconvert_exporter": "python",
   "pygments_lexer": "ipython3",
   "version": "3.11.7"
  }
 },
 "nbformat": 4,
 "nbformat_minor": 5
}
